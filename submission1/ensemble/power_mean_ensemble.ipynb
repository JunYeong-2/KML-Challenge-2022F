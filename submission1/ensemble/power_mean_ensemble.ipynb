{
 "cells": [
  {
   "cell_type": "markdown",
   "metadata": {},
   "source": [
    "## Creating mean ensembles from submission files"
   ]
  },
  {
   "cell_type": "code",
   "execution_count": 1,
   "metadata": {},
   "outputs": [],
   "source": [
    "# 사용법: \n",
    "# 1) 스크립트를 실행하기 전에 submissions 폴더를 먼저 만듭니다. \n",
    "# 2) 앙상블할 submission 화일을 submissions 폴더에 저장합니다.\n",
    "# 3) 실행하면 현재 폴더에 앙상블한 submission 화일이 생성됩니다.\n",
    "\n",
    "import pandas as pd\n",
    "import numpy as np\n",
    "import os\n",
    "import warnings\n",
    "warnings.filterwarnings(\"ignore\")\n",
    "\n",
    "# 아래 폴더가 있다는 가정 하에 수행\n",
    "folder = 'submissions'\n",
    "nf = 0\n",
    "for f in os.listdir(folder):\n",
    "    ext = os.path.splitext(f)[-1]\n",
    "    if ext == '.csv': \n",
    "        s = pd.read_csv(folder+\"/\"+f)\n",
    "    else: \n",
    "        continue\n",
    "    if nf == 0: \n",
    "        slist = s\n",
    "    else: \n",
    "        slist = pd.merge(slist, s, on=\"ID\")\n",
    "    nf += 1"
   ]
  },
  {
   "cell_type": "code",
   "execution_count": 2,
   "metadata": {},
   "outputs": [
    {
     "data": {
      "text/html": [
       "<div>\n",
       "<style scoped>\n",
       "    .dataframe tbody tr th:only-of-type {\n",
       "        vertical-align: middle;\n",
       "    }\n",
       "\n",
       "    .dataframe tbody tr th {\n",
       "        vertical-align: top;\n",
       "    }\n",
       "\n",
       "    .dataframe thead th {\n",
       "        text-align: right;\n",
       "    }\n",
       "</style>\n",
       "<table border=\"1\" class=\"dataframe\">\n",
       "  <thead>\n",
       "    <tr style=\"text-align: right;\">\n",
       "      <th></th>\n",
       "      <th>ID</th>\n",
       "      <th>Salary_x</th>\n",
       "      <th>Salary_y</th>\n",
       "      <th>Salary_x</th>\n",
       "      <th>Salary_y</th>\n",
       "      <th>Salary</th>\n",
       "    </tr>\n",
       "  </thead>\n",
       "  <tbody>\n",
       "    <tr>\n",
       "      <th>0</th>\n",
       "      <td>SID10000</td>\n",
       "      <td>2370.605038</td>\n",
       "      <td>2217.450833</td>\n",
       "      <td>2260.923405</td>\n",
       "      <td>2411.680872</td>\n",
       "      <td>2064.626599</td>\n",
       "    </tr>\n",
       "    <tr>\n",
       "      <th>1</th>\n",
       "      <td>SID100030</td>\n",
       "      <td>3295.820787</td>\n",
       "      <td>3414.427858</td>\n",
       "      <td>3118.305834</td>\n",
       "      <td>3269.578663</td>\n",
       "      <td>3022.275853</td>\n",
       "    </tr>\n",
       "    <tr>\n",
       "      <th>2</th>\n",
       "      <td>SID100204</td>\n",
       "      <td>5223.502372</td>\n",
       "      <td>5178.692907</td>\n",
       "      <td>4947.378030</td>\n",
       "      <td>5253.355651</td>\n",
       "      <td>4133.801568</td>\n",
       "    </tr>\n",
       "    <tr>\n",
       "      <th>3</th>\n",
       "      <td>SID100220</td>\n",
       "      <td>2146.560336</td>\n",
       "      <td>2205.421756</td>\n",
       "      <td>2244.926306</td>\n",
       "      <td>2234.465551</td>\n",
       "      <td>2367.109825</td>\n",
       "    </tr>\n",
       "    <tr>\n",
       "      <th>4</th>\n",
       "      <td>SID100230</td>\n",
       "      <td>2205.297726</td>\n",
       "      <td>2176.594897</td>\n",
       "      <td>2241.605593</td>\n",
       "      <td>2061.447961</td>\n",
       "      <td>2311.537637</td>\n",
       "    </tr>\n",
       "    <tr>\n",
       "      <th>...</th>\n",
       "      <td>...</td>\n",
       "      <td>...</td>\n",
       "      <td>...</td>\n",
       "      <td>...</td>\n",
       "      <td>...</td>\n",
       "      <td>...</td>\n",
       "    </tr>\n",
       "    <tr>\n",
       "      <th>11043</th>\n",
       "      <td>SID9934</td>\n",
       "      <td>2009.983542</td>\n",
       "      <td>1882.663882</td>\n",
       "      <td>2103.338579</td>\n",
       "      <td>2037.138172</td>\n",
       "      <td>1922.741436</td>\n",
       "    </tr>\n",
       "    <tr>\n",
       "      <th>11044</th>\n",
       "      <td>SID9944</td>\n",
       "      <td>1762.806941</td>\n",
       "      <td>1814.184572</td>\n",
       "      <td>1762.570192</td>\n",
       "      <td>1803.615379</td>\n",
       "      <td>1761.722107</td>\n",
       "    </tr>\n",
       "    <tr>\n",
       "      <th>11045</th>\n",
       "      <td>SID99563</td>\n",
       "      <td>2340.487947</td>\n",
       "      <td>2355.907436</td>\n",
       "      <td>2320.988719</td>\n",
       "      <td>2323.168874</td>\n",
       "      <td>2470.377083</td>\n",
       "    </tr>\n",
       "    <tr>\n",
       "      <th>11046</th>\n",
       "      <td>SID99786</td>\n",
       "      <td>1439.840645</td>\n",
       "      <td>1781.465559</td>\n",
       "      <td>1346.373019</td>\n",
       "      <td>1700.209896</td>\n",
       "      <td>1474.580283</td>\n",
       "    </tr>\n",
       "    <tr>\n",
       "      <th>11047</th>\n",
       "      <td>SID99806</td>\n",
       "      <td>2004.469445</td>\n",
       "      <td>1975.525918</td>\n",
       "      <td>1955.634662</td>\n",
       "      <td>1898.018796</td>\n",
       "      <td>1754.042421</td>\n",
       "    </tr>\n",
       "  </tbody>\n",
       "</table>\n",
       "<p>11048 rows × 6 columns</p>\n",
       "</div>"
      ],
      "text/plain": [
       "              ID     Salary_x     Salary_y     Salary_x     Salary_y  \\\n",
       "0       SID10000  2370.605038  2217.450833  2260.923405  2411.680872   \n",
       "1      SID100030  3295.820787  3414.427858  3118.305834  3269.578663   \n",
       "2      SID100204  5223.502372  5178.692907  4947.378030  5253.355651   \n",
       "3      SID100220  2146.560336  2205.421756  2244.926306  2234.465551   \n",
       "4      SID100230  2205.297726  2176.594897  2241.605593  2061.447961   \n",
       "...          ...          ...          ...          ...          ...   \n",
       "11043    SID9934  2009.983542  1882.663882  2103.338579  2037.138172   \n",
       "11044    SID9944  1762.806941  1814.184572  1762.570192  1803.615379   \n",
       "11045   SID99563  2340.487947  2355.907436  2320.988719  2323.168874   \n",
       "11046   SID99786  1439.840645  1781.465559  1346.373019  1700.209896   \n",
       "11047   SID99806  2004.469445  1975.525918  1955.634662  1898.018796   \n",
       "\n",
       "            Salary  \n",
       "0      2064.626599  \n",
       "1      3022.275853  \n",
       "2      4133.801568  \n",
       "3      2367.109825  \n",
       "4      2311.537637  \n",
       "...            ...  \n",
       "11043  1922.741436  \n",
       "11044  1761.722107  \n",
       "11045  2470.377083  \n",
       "11046  1474.580283  \n",
       "11047  1754.042421  \n",
       "\n",
       "[11048 rows x 6 columns]"
      ]
     },
     "execution_count": 2,
     "metadata": {},
     "output_type": "execute_result"
    }
   ],
   "source": [
    "slist"
   ]
  },
  {
   "cell_type": "code",
   "execution_count": 3,
   "metadata": {},
   "outputs": [],
   "source": [
    "ID = slist['ID']\n",
    "slist.drop(columns = 'ID', inplace=True)\n",
    "\n",
    "weight = np.array([0.35,0.3,0.2,0.1,0.05])\n",
    "pred_df = slist * weight\n",
    "pred_df.columns = [0, 1, 2, 3, 4]\n",
    "\n",
    "p = weight\n",
    "\n",
    "pred_df['pred'] = pred_df[0] + pred_df[1] + pred_df[2] + pred_df[3] + pred_df[4]\n",
    "pred_df.drop(columns=[0,1,2, 3, 4],inplace=True)\n",
    "pred_df=pred_df.reset_index().rename(columns={'index':'id'})\n",
    "pred = pred_df['pred']"
   ]
  },
  {
   "cell_type": "code",
   "execution_count": 4,
   "metadata": {},
   "outputs": [
    {
     "data": {
      "text/plain": [
       "0        2291.531112\n",
       "1        3279.598458\n",
       "2        5103.334952\n",
       "3        2203.709952\n",
       "4        2194.875470\n",
       "            ...     \n",
       "11043    1988.812009\n",
       "11044    1782.199483\n",
       "11045    2345.976498\n",
       "11046    1551.408501\n",
       "11047    1962.853014\n",
       "Name: pred, Length: 11048, dtype: float64"
      ]
     },
     "execution_count": 4,
     "metadata": {},
     "output_type": "execute_result"
    }
   ],
   "source": [
    "pred"
   ]
  },
  {
   "cell_type": "code",
   "execution_count": 5,
   "metadata": {},
   "outputs": [
    {
     "name": "stdout",
     "output_type": "stream",
     "text": [
      "'p[0.35 0.3  0.2  0.1  0.05]mean_submission_1125_1244.csv' is ready to submit.\n"
     ]
    }
   ],
   "source": [
    "t = pd.Timestamp.now()\n",
    "fname = f\"p{p}mean_submission_{t.month:02}{t.day:02}_{t.hour:02}{t.minute:02}.csv\"\n",
    "pd.DataFrame({'ID': ID, 'Salary': pred}).to_csv(fname, index=False)\n",
    "print(f\"'{fname}' is ready to submit.\")"
   ]
  },
  {
   "cell_type": "markdown",
   "metadata": {},
   "source": [
    "## End"
   ]
  }
 ],
 "metadata": {
  "kernelspec": {
   "display_name": "Python 3 (ipykernel)",
   "language": "python",
   "name": "python3"
  },
  "language_info": {
   "codemirror_mode": {
    "name": "ipython",
    "version": 3
   },
   "file_extension": ".py",
   "mimetype": "text/x-python",
   "name": "python",
   "nbconvert_exporter": "python",
   "pygments_lexer": "ipython3",
   "version": "3.8.12"
  }
 },
 "nbformat": 4,
 "nbformat_minor": 4
}
