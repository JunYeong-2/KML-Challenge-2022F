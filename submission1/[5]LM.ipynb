{
 "cells": [
  {
   "cell_type": "code",
   "execution_count": 1,
   "id": "d64f63d2",
   "metadata": {},
   "outputs": [],
   "source": [
    "%matplotlib inline\n",
    "import warnings\n",
    "warnings.filterwarnings(\"ignore\")\n",
    "\n",
    "import pandas as pd\n",
    "import numpy as np\n",
    "import matplotlib.pyplot as plt\n",
    "import seaborn as sns\n",
    "from sklearn.pipeline import Pipeline\n",
    "from sklearn.compose import ColumnTransformer\n",
    "from sklearn.preprocessing import FunctionTransformer\n",
    "from sklearn.base import BaseEstimator, TransformerMixin\n",
    "from sklearn.impute import SimpleImputer\n",
    "from sklearn.preprocessing import PowerTransformer \n",
    "from sklearn.preprocessing import OrdinalEncoder, OneHotEncoder\n",
    "from category_encoders import TargetEncoder, BinaryEncoder\n",
    "from sklearn.feature_selection import SelectPercentile\n",
    "from sklearn.model_selection import train_test_split, cross_val_score, cross_validate\n",
    "from sklearn.metrics import mean_squared_error\n",
    "from sklearn import set_config\n",
    "from sklearn.linear_model import LinearRegression, Ridge, Lasso\n",
    "import optuna\n",
    "from optuna.distributions import CategoricalDistribution, IntDistribution, FloatDistribution\n",
    "from optuna.integration import OptunaSearchCV, ShapleyImportanceEvaluator\n",
    "from catboost import CatBoostRegressor\n",
    "from sklearn.model_selection import train_test_split, KFold\n",
    "from sklearn.impute import SimpleImputer\n",
    "from sklearn.decomposition import PCA\n",
    "plt.rc('font', family='malgun gothic')"
   ]
  },
  {
   "cell_type": "code",
   "execution_count": 2,
   "id": "a6b94e09",
   "metadata": {},
   "outputs": [],
   "source": [
    "X_train = pd.read_csv('X_train.csv', encoding='cp949').drop(columns='ID')\n",
    "y_train = pd.read_csv('y_train.csv', encoding='cp949').Salary\n",
    "\n",
    "X_test = pd.read_csv('X_test.csv', encoding='cp949')\n",
    "test_id = X_test.ID\n",
    "X_test = X_test.drop(columns='ID')\n",
    "\n",
    "data = pd.concat([X_train, X_test]).reset_index().drop(columns='index')\n",
    "\n",
    "data.loc[data[data['직종']=='호텔/콘도/리조트'].index, '직종'] = '기타 직종'"
   ]
  },
  {
   "cell_type": "markdown",
   "id": "f4e6bb9b",
   "metadata": {},
   "source": [
    "# 피쳐 정리"
   ]
  },
  {
   "cell_type": "code",
   "execution_count": 3,
   "id": "c6fa2131",
   "metadata": {},
   "outputs": [],
   "source": [
    "# 자격증 보기 쉽게 변환\n",
    "data['자격증'] = data['자격증'].str.replace('無', 'x')\n",
    "data['자격증'] = data['자격증'].str.replace('有', 'o')\n",
    "\n",
    "# 어학 시험 전처리\n",
    "data['어학시험'] = data['어학시험'].fillna('없음')\n",
    "\n",
    "# 대학 전공 변환\n",
    "col_list = []\n",
    "abc = []\n",
    "for i in data.대학전공:\n",
    "    if '(' in i:\n",
    "        for j in range(len(i)):\n",
    "            if i[j] == '(':\n",
    "                a = j\n",
    "            elif i[j] == ')':\n",
    "                b = j\n",
    "        last = i[b+1:]\n",
    "        first = i[:a]\n",
    "        i = first + last\n",
    "        abc.append(i)\n",
    "    col_list.append(i)    \n",
    "data['대학전공'] = col_list\n",
    "\n",
    "\n",
    "#\n",
    "data['대학전공'] = data['대학전공'].str.replace(',',' ')\n",
    "data['대학전공'] = data['대학전공'].str.replace('/', ' ')\n",
    "data['대학전공'] = data['대학전공'].str.replace('.',' ')\n",
    "data['대학전공'] = data['대학전공'].str.strip()\n",
    "data['대학전공'] = data['대학전공'].str.replace(' ','')\n",
    "\n",
    "\n",
    "#\n",
    "col = []\n",
    "for i in data['대학전공']:\n",
    "    if i[-1]=='과':\n",
    "        i = i[:-1]\n",
    "    col.append(i)    \n",
    "data['대학전공'] = col\n",
    "\n",
    "\n",
    "#\n",
    "col2 = []\n",
    "for i in data['대학전공']:\n",
    "    if i[-1]!='학':\n",
    "        i = i+'학'\n",
    "    col2.append(i)    \n",
    "data['대학전공'] = col2\n",
    "\n",
    "# 세부직종 처리\n",
    "def full(job):\n",
    "    value = data[data['세부직종']==job]['직무태그'].value_counts().index[0]\n",
    "    data.loc[data[data['세부직종']==job]['직무태그'].index, '직무태그'] = data[data['세부직종']==job]['직무태그'].fillna(value)\n",
    "    \n",
    "for i in data.세부직종.value_counts().index:\n",
    "    full(i)\n",
    "    \n",
    "# 근무지역\n",
    "\n",
    "null_list = []\n",
    "for i in data.근무지역.str.replace(' ',','):\n",
    "    for j in i.split(','):\n",
    "        null_list.append(j)\n",
    "\n",
    "        \n",
    "a = []    \n",
    "for i in data['근무지역']:\n",
    "    a.append(sorted(list(set(i.split(',')))))\n",
    "    \n",
    "b = []\n",
    "for i in a:\n",
    "    result = ' '.join(map(str, i))\n",
    "    result = result.rstrip()\n",
    "    result = result.lstrip()\n",
    "    b.append(result)\n",
    "data['근무지역'] = b\n",
    "\n",
    "language3 = []\n",
    "for i in data['어학시험']:\n",
    "    if i[:5] == 'TOEFL':\n",
    "        i = '토플'\n",
    "    language3.append(i) \n",
    "data['어학시험'] = language3"
   ]
  },
  {
   "cell_type": "markdown",
   "id": "986af4cf",
   "metadata": {},
   "source": [
    "# 근무형태 처리 / NOT PCA"
   ]
  },
  {
   "cell_type": "code",
   "execution_count": 4,
   "id": "b1ceaca9",
   "metadata": {},
   "outputs": [],
   "source": [
    "# 근무 형태 처리\n",
    "null_list = data[data['근무경력']==0].index\n",
    "data['근무형태'][null_list] = data['근무형태'][null_list].fillna('경력없음')\n",
    "data['근무형태'] = data['근무형태'].fillna('missing')\n",
    "\n",
    "#\n",
    "data['근무형태'] = data['근무형태'].str.replace(',', ' ')\n",
    "data['근무형태'] = data['근무형태'].str.strip()\n",
    "\n",
    "#\n",
    "hyung_list = []\n",
    "for i in data['근무형태']:\n",
    "    if i[:3] == '정규직' and '해외취업' in i:\n",
    "        i = '정규직(해외o)'\n",
    "    elif i[:3] == '정규직' and '해외취업' not in i:\n",
    "        i = '정규직(해외x)'\n",
    "    hyung_list.append(i)    \n",
    "data['근무형태'] = hyung_list\n",
    "\n",
    "#\n",
    "hyun_list2 = []\n",
    "for i in data['근무형태']:\n",
    "    if i[:3] == '계약직':\n",
    "        i = '계약직'\n",
    "    elif i in ['인턴','파견직']:\n",
    "        i = '계약직'\n",
    "    elif i in ['해외취업','병역특례']:\n",
    "        i = '기타'    \n",
    "    hyun_list2.append(i)   \n",
    "data['근무형태'] = hyun_list2"
   ]
  },
  {
   "cell_type": "markdown",
   "id": "e33914a9",
   "metadata": {},
   "source": [
    "# New_근무경력 처리"
   ]
  },
  {
   "cell_type": "code",
   "execution_count": 5,
   "id": "6432524b",
   "metadata": {},
   "outputs": [],
   "source": [
    "data['New_근무경력'] = data.근무경력"
   ]
  },
  {
   "cell_type": "code",
   "execution_count": 6,
   "id": "054bab71",
   "metadata": {},
   "outputs": [],
   "source": [
    "# 근무경력 처리\n",
    "month_list = []\n",
    "for i in data['근무경력'].str.split('년'):\n",
    "    if len(i) == 1:\n",
    "        i = int(i[0][0])\n",
    "    else:\n",
    "        i = int(i[0])*12 + int(i[1].split('개월')[0].strip())\n",
    "    month_list.append(i)    \n",
    "data['근무경력'] = month_list"
   ]
  },
  {
   "cell_type": "code",
   "execution_count": 7,
   "id": "dacf861e",
   "metadata": {},
   "outputs": [],
   "source": [
    "a = []\n",
    "\n",
    "for i in data['근무경력']:\n",
    "    if i==0: \n",
    "        b = '경력없음' \n",
    "    elif i <=24:\n",
    "        b = '하'\n",
    "    elif i <=48:\n",
    "        b = '중'\n",
    "    elif i <=72:\n",
    "        b = '중중'\n",
    "    else:\n",
    "        b = '상'\n",
    "    a.append(b)\n",
    "data['숙련도'] = a\n",
    "\n",
    "data.drop(columns='근무경력', inplace=True)"
   ]
  },
  {
   "cell_type": "markdown",
   "id": "6f9ac8fb",
   "metadata": {},
   "source": [
    "# 근무지역 처리 / NOT PCA"
   ]
  },
  {
   "cell_type": "code",
   "execution_count": 8,
   "id": "c4e07a51",
   "metadata": {},
   "outputs": [],
   "source": [
    "# 근무지역\n",
    "\n",
    "null_list = []\n",
    "for i in data.근무지역.str.replace(' ',','):\n",
    "    for j in i.split(','):\n",
    "        null_list.append(j)\n",
    "\n",
    "out = ['필리핀', '인도네시아', '대만', '프랑스', '방글라데시', '해외', '미국', '러시아', '말레이시아', '인도', '일본', '싱가포르', '중국', '홍콩', '캐나다']\n",
    "for i in out:\n",
    "    data['근무지역'] = data['근무지역'].str.replace(' ',',').str.replace(i, '해외')\n",
    "   \n",
    "a = []\n",
    "for i in data['근무지역']:\n",
    "    a.append(sorted(list(set(i.split(',')))))\n",
    "   \n",
    "b = []\n",
    "for i in a:\n",
    "    result = ' '.join(map(str, i))\n",
    "    result = result.rstrip()\n",
    "    result = result.lstrip()\n",
    "    b.append(result)\n",
    "   \n",
    "data['근무지역'] = b"
   ]
  },
  {
   "cell_type": "markdown",
   "id": "fde9d4e6",
   "metadata": {},
   "source": [
    "# 직무태그 처리"
   ]
  },
  {
   "cell_type": "code",
   "execution_count": 9,
   "id": "e7b94a5e",
   "metadata": {},
   "outputs": [],
   "source": [
    "data['직무태그'] = data['직무태그'].str.strip()\n",
    "data['직무태그'] = data['직무태그'].str.replace(' ',',')\n",
    "\n",
    "a = []\n",
    "for i in data.직무태그.str.split(','):\n",
    "    b = len(i)\n",
    "    a.append(b)\n",
    "data['직무태그_갯수'] = a"
   ]
  },
  {
   "cell_type": "code",
   "execution_count": 10,
   "id": "bf2f025b",
   "metadata": {},
   "outputs": [
    {
     "name": "stdout",
     "output_type": "stream",
     "text": [
      "(16570, 180)\n"
     ]
    }
   ],
   "source": [
    "from sklearn.feature_extraction.text import CountVectorizer\n",
    "\n",
    "sentences = data['직무태그']\n",
    "\n",
    "vectorizer = CountVectorizer()\n",
    "\n",
    "features = vectorizer.fit_transform(sentences)\n",
    "vocab = vectorizer.get_feature_names()\n",
    "new = pd.DataFrame(features.toarray(), columns = vocab)\n",
    "\n",
    "X_train_New = new[:16570]\n",
    "X_test_New = new[16570:]\n",
    "\n",
    "max_d = num_d = new.shape[1]\n",
    "pca = PCA(n_components=max_d).fit(X_train_New)\n",
    "cumsum = np.cumsum(pca.explained_variance_ratio_)\n",
    "num_d = np.argmax(cumsum >= 0.65) + 1\n",
    "if num_d == 1: num_d = max_d\n",
    "pca = PCA(n_components=num_d, random_state=0)  \n",
    "X_train_pca = pca.fit_transform(X_train_New)\n",
    "X_test_pca = pca.transform(X_test_New)\n",
    "print(X_train_pca.shape)\n",
    "\n",
    "train = pd.DataFrame(X_train_pca)\n",
    "test = pd.DataFrame(X_test_pca)\n",
    "\n",
    "all_pca = pd.concat([train, test]).reset_index().drop(columns = 'index')\n",
    "data = pd.concat([data, all_pca], axis=1).drop(columns='직무태그')"
   ]
  },
  {
   "cell_type": "markdown",
   "id": "057b7ee9",
   "metadata": {},
   "source": [
    "# 출신대학"
   ]
  },
  {
   "cell_type": "code",
   "execution_count": 12,
   "id": "1b3ec4c7",
   "metadata": {},
   "outputs": [],
   "source": [
    "def univ_level(X):\n",
    "    univ = pd.read_csv('univ_level.csv',encoding='cp949')\n",
    "    for i in range(X.shape[0]):\n",
    "        if X.loc[i,'출신대학'] in set(univ['상위권'].values):\n",
    "            X.loc[i,'출신대학_등급'] = '상위권'\n",
    "        elif X.loc[i,'출신대학'] in set(univ['중위권'].values):\n",
    "            X.loc[i,'출신대학_등급'] = '중위권'\n",
    "        elif X.loc[i,'출신대학'] in set(univ['하위권'].values):\n",
    "            X.loc[i,'출신대학_등급'] = '하위권'\n",
    "        else:\n",
    "            X.loc[i,'출신대학_등급'] = '기타'\n",
    "            \n",
    "univ_level(data)"
   ]
  },
  {
   "cell_type": "code",
   "execution_count": null,
   "id": "2407b215",
   "metadata": {},
   "outputs": [],
   "source": []
  },
  {
   "cell_type": "code",
   "execution_count": 13,
   "id": "e0d3c128",
   "metadata": {},
   "outputs": [],
   "source": [
    "data.columns = [i for i in range(data.columns.size)]"
   ]
  },
  {
   "cell_type": "code",
   "execution_count": 14,
   "id": "9bd758f5",
   "metadata": {},
   "outputs": [],
   "source": [
    "X_train = data[:16570]\n",
    "X_test = data[16570:]\n",
    "\n",
    "X_test = X_test.reset_index()\n",
    "X_test.drop(columns='index', inplace=True)\n",
    "\n",
    "numeric_features = data.select_dtypes('number').columns\n",
    "categorical_features = data.select_dtypes('object').columns"
   ]
  },
  {
   "cell_type": "code",
   "execution_count": 15,
   "id": "d5263b46",
   "metadata": {},
   "outputs": [],
   "source": [
    "from sklearn.preprocessing import OneHotEncoder\n",
    "\n",
    "numeric_transformer = Pipeline(\n",
    "    steps=[\n",
    "        (\"imputer\", SimpleImputer(strategy=\"median\")),\n",
    "        (\"scaler\", PowerTransformer()),\n",
    "    ]\n",
    ")\n",
    "\n",
    "categorical_transformer = Pipeline(\n",
    "    steps=[\n",
    "        (\"imputer\", SimpleImputer(strategy=\"most_frequent\")), \n",
    "        (\"encoder\", OneHotEncoder(handle_unknown=\"ignore\", sparse=True)),\n",
    "    ]\n",
    ")\n",
    "\n",
    "column_transformer = ColumnTransformer(\n",
    "    transformers=[\n",
    "        (\"num\", numeric_transformer, numeric_features),\n",
    "        (\"cat\", categorical_transformer, categorical_features),\n",
    "    ]\n",
    ")\n",
    "\n",
    "preprocessor = Pipeline(\n",
    "    steps=[\n",
    "        (\"column\", column_transformer), \n",
    "        (\"selector\", SelectPercentile(percentile=100)),\n",
    "    ]\n",
    ")\n",
    "\n",
    "model = Pipeline(\n",
    "    steps=[\n",
    "        (\"preprocessor\", preprocessor), \n",
    "        (\"classifier\", Ridge(alpha=1.0)), # regressor가 되어야 함 #alpha가 낮을수록 과적합 Viceversa \n",
    "    ]\n",
    ")\n",
    "\n",
    "set_config(display=\"diagram\")"
   ]
  },
  {
   "cell_type": "code",
   "execution_count": 16,
   "id": "6aaca337",
   "metadata": {},
   "outputs": [
    {
     "name": "stdout",
     "output_type": "stream",
     "text": [
      "Default LM CV scores:  [ 796.99095695  781.76830144  866.45708932  919.02822261 1021.0612404 ]\n",
      "Default LM CV mean = 881.39 with std = 396.35\n"
     ]
    }
   ],
   "source": [
    "scores = cross_val_score(model, X_train, y_train, scoring='neg_mean_squared_error', cv=5) \n",
    "\n",
    "print(\"Default LM CV scores: \", np.sqrt(-1*scores))\n",
    "print(\"Default LM CV mean = %.2f\" % np.sqrt(-1*scores.mean()), \"with std = %.2f\" % np.sqrt(scores.std()))\n"
   ]
  },
  {
   "cell_type": "code",
   "execution_count": 17,
   "id": "caa17b18",
   "metadata": {},
   "outputs": [
    {
     "name": "stdout",
     "output_type": "stream",
     "text": [
      "Default LM CV scores:  [ 778.72956957  797.24140109  781.06121193  777.63393473  859.08549218\n",
      "  868.32757745  868.20926013  945.02026239  938.21901063 1059.76328205]\n",
      "Default LM CV mean = 871.72 with std = 397.72\n"
     ]
    }
   ],
   "source": [
    "from sklearn.model_selection import cross_val_score\n",
    "scores = cross_val_score(model, X_train, y_train, scoring='neg_mean_squared_error', cv=10) \n",
    "\n",
    "print(\"Default LM CV scores: \", np.sqrt(-1*scores))\n",
    "print(\"Default LM CV mean = %.2f\" % np.sqrt(-1*scores.mean()), \"with std = %.2f\" % np.sqrt(scores.std()))\n"
   ]
  },
  {
   "cell_type": "code",
   "execution_count": null,
   "id": "bce69950",
   "metadata": {},
   "outputs": [],
   "source": []
  },
  {
   "cell_type": "code",
   "execution_count": 18,
   "id": "6263ec00",
   "metadata": {},
   "outputs": [
    {
     "name": "stdout",
     "output_type": "stream",
     "text": [
      "CPU times: total: 8min 34s\n",
      "Wall time: 8min 44s\n"
     ]
    },
    {
     "data": {
      "text/html": [
       "<style>#sk-7f2e9929-bf8f-4e17-ad78-ea30dd14aa74 {color: black;background-color: white;}#sk-7f2e9929-bf8f-4e17-ad78-ea30dd14aa74 pre{padding: 0;}#sk-7f2e9929-bf8f-4e17-ad78-ea30dd14aa74 div.sk-toggleable {background-color: white;}#sk-7f2e9929-bf8f-4e17-ad78-ea30dd14aa74 label.sk-toggleable__label {cursor: pointer;display: block;width: 100%;margin-bottom: 0;padding: 0.3em;box-sizing: border-box;text-align: center;}#sk-7f2e9929-bf8f-4e17-ad78-ea30dd14aa74 label.sk-toggleable__label-arrow:before {content: \"▸\";float: left;margin-right: 0.25em;color: #696969;}#sk-7f2e9929-bf8f-4e17-ad78-ea30dd14aa74 label.sk-toggleable__label-arrow:hover:before {color: black;}#sk-7f2e9929-bf8f-4e17-ad78-ea30dd14aa74 div.sk-estimator:hover label.sk-toggleable__label-arrow:before {color: black;}#sk-7f2e9929-bf8f-4e17-ad78-ea30dd14aa74 div.sk-toggleable__content {max-height: 0;max-width: 0;overflow: hidden;text-align: left;background-color: #f0f8ff;}#sk-7f2e9929-bf8f-4e17-ad78-ea30dd14aa74 div.sk-toggleable__content pre {margin: 0.2em;color: black;border-radius: 0.25em;background-color: #f0f8ff;}#sk-7f2e9929-bf8f-4e17-ad78-ea30dd14aa74 input.sk-toggleable__control:checked~div.sk-toggleable__content {max-height: 200px;max-width: 100%;overflow: auto;}#sk-7f2e9929-bf8f-4e17-ad78-ea30dd14aa74 input.sk-toggleable__control:checked~label.sk-toggleable__label-arrow:before {content: \"▾\";}#sk-7f2e9929-bf8f-4e17-ad78-ea30dd14aa74 div.sk-estimator input.sk-toggleable__control:checked~label.sk-toggleable__label {background-color: #d4ebff;}#sk-7f2e9929-bf8f-4e17-ad78-ea30dd14aa74 div.sk-label input.sk-toggleable__control:checked~label.sk-toggleable__label {background-color: #d4ebff;}#sk-7f2e9929-bf8f-4e17-ad78-ea30dd14aa74 input.sk-hidden--visually {border: 0;clip: rect(1px 1px 1px 1px);clip: rect(1px, 1px, 1px, 1px);height: 1px;margin: -1px;overflow: hidden;padding: 0;position: absolute;width: 1px;}#sk-7f2e9929-bf8f-4e17-ad78-ea30dd14aa74 div.sk-estimator {font-family: monospace;background-color: #f0f8ff;border: 1px dotted black;border-radius: 0.25em;box-sizing: border-box;margin-bottom: 0.5em;}#sk-7f2e9929-bf8f-4e17-ad78-ea30dd14aa74 div.sk-estimator:hover {background-color: #d4ebff;}#sk-7f2e9929-bf8f-4e17-ad78-ea30dd14aa74 div.sk-parallel-item::after {content: \"\";width: 100%;border-bottom: 1px solid gray;flex-grow: 1;}#sk-7f2e9929-bf8f-4e17-ad78-ea30dd14aa74 div.sk-label:hover label.sk-toggleable__label {background-color: #d4ebff;}#sk-7f2e9929-bf8f-4e17-ad78-ea30dd14aa74 div.sk-serial::before {content: \"\";position: absolute;border-left: 1px solid gray;box-sizing: border-box;top: 2em;bottom: 0;left: 50%;}#sk-7f2e9929-bf8f-4e17-ad78-ea30dd14aa74 div.sk-serial {display: flex;flex-direction: column;align-items: center;background-color: white;padding-right: 0.2em;padding-left: 0.2em;}#sk-7f2e9929-bf8f-4e17-ad78-ea30dd14aa74 div.sk-item {z-index: 1;}#sk-7f2e9929-bf8f-4e17-ad78-ea30dd14aa74 div.sk-parallel {display: flex;align-items: stretch;justify-content: center;background-color: white;}#sk-7f2e9929-bf8f-4e17-ad78-ea30dd14aa74 div.sk-parallel::before {content: \"\";position: absolute;border-left: 1px solid gray;box-sizing: border-box;top: 2em;bottom: 0;left: 50%;}#sk-7f2e9929-bf8f-4e17-ad78-ea30dd14aa74 div.sk-parallel-item {display: flex;flex-direction: column;position: relative;background-color: white;}#sk-7f2e9929-bf8f-4e17-ad78-ea30dd14aa74 div.sk-parallel-item:first-child::after {align-self: flex-end;width: 50%;}#sk-7f2e9929-bf8f-4e17-ad78-ea30dd14aa74 div.sk-parallel-item:last-child::after {align-self: flex-start;width: 50%;}#sk-7f2e9929-bf8f-4e17-ad78-ea30dd14aa74 div.sk-parallel-item:only-child::after {width: 0;}#sk-7f2e9929-bf8f-4e17-ad78-ea30dd14aa74 div.sk-dashed-wrapped {border: 1px dashed gray;margin: 0 0.4em 0.5em 0.4em;box-sizing: border-box;padding-bottom: 0.4em;background-color: white;position: relative;}#sk-7f2e9929-bf8f-4e17-ad78-ea30dd14aa74 div.sk-label label {font-family: monospace;font-weight: bold;background-color: white;display: inline-block;line-height: 1.2em;}#sk-7f2e9929-bf8f-4e17-ad78-ea30dd14aa74 div.sk-label-container {position: relative;z-index: 2;text-align: center;}#sk-7f2e9929-bf8f-4e17-ad78-ea30dd14aa74 div.sk-container {/* jupyter's `normalize.less` sets `[hidden] { display: none; }` but bootstrap.min.css set `[hidden] { display: none !important; }` so we also need the `!important` here to be able to override the default hidden behavior on the sphinx rendered scikit-learn.org. See: https://github.com/scikit-learn/scikit-learn/issues/21755 */display: inline-block !important;position: relative;}#sk-7f2e9929-bf8f-4e17-ad78-ea30dd14aa74 div.sk-text-repr-fallback {display: none;}</style><div id=\"sk-7f2e9929-bf8f-4e17-ad78-ea30dd14aa74\" class=\"sk-top-container\"><div class=\"sk-text-repr-fallback\"><pre>OptunaSearchCV(estimator=Pipeline(steps=[(&#x27;preprocessor&#x27;,\n",
       "                                          Pipeline(steps=[(&#x27;column&#x27;,\n",
       "                                                           ColumnTransformer(transformers=[(&#x27;num&#x27;,\n",
       "                                                                                            Pipeline(steps=[(&#x27;imputer&#x27;,\n",
       "                                                                                                             SimpleImputer(strategy=&#x27;median&#x27;)),\n",
       "                                                                                                            (&#x27;scaler&#x27;,\n",
       "                                                                                                             PowerTransformer())]),\n",
       "                                                                                            Int64Index([  8,  11,  12,  13,  14,  15,  16,  17,  18,  19,\n",
       "            ...\n",
       "            182, 183, 184, 185, 186, 187, 188, 189, 190, 191],\n",
       "           dtype=&#x27;int64&#x27;, length=182)),\n",
       "                                                                                           (&#x27;cat&#x27;,\n",
       "                                                                                            Pipeline(steps=[...\n",
       "                                                          (&#x27;selector&#x27;,\n",
       "                                                           SelectPercentile(percentile=100))])),\n",
       "                                         (&#x27;classifier&#x27;, Ridge())]),\n",
       "               n_trials=20,\n",
       "               param_distributions={&#x27;classifier__alpha&#x27;: IntDistribution(high=10, log=False, low=1, step=1),\n",
       "                                    &#x27;preprocessor__selector__percentile&#x27;: IntDistribution(high=100, log=False, low=70, step=5)},\n",
       "               scoring=&#x27;neg_mean_squared_error&#x27;,\n",
       "               study=&lt;optuna.study.study.Study object at 0x00000181E875D790&gt;)</pre><b>Please rerun this cell to show the HTML repr or trust the notebook.</b></div><div class=\"sk-container\" hidden><div class=\"sk-item sk-dashed-wrapped\"><div class=\"sk-label-container\"><div class=\"sk-label sk-toggleable\"><input class=\"sk-toggleable__control sk-hidden--visually\" id=\"b586db0e-9d21-41e2-ac82-468a34d531e6\" type=\"checkbox\" ><label for=\"b586db0e-9d21-41e2-ac82-468a34d531e6\" class=\"sk-toggleable__label sk-toggleable__label-arrow\">OptunaSearchCV</label><div class=\"sk-toggleable__content\"><pre>OptunaSearchCV(estimator=Pipeline(steps=[(&#x27;preprocessor&#x27;,\n",
       "                                          Pipeline(steps=[(&#x27;column&#x27;,\n",
       "                                                           ColumnTransformer(transformers=[(&#x27;num&#x27;,\n",
       "                                                                                            Pipeline(steps=[(&#x27;imputer&#x27;,\n",
       "                                                                                                             SimpleImputer(strategy=&#x27;median&#x27;)),\n",
       "                                                                                                            (&#x27;scaler&#x27;,\n",
       "                                                                                                             PowerTransformer())]),\n",
       "                                                                                            Int64Index([  8,  11,  12,  13,  14,  15,  16,  17,  18,  19,\n",
       "            ...\n",
       "            182, 183, 184, 185, 186, 187, 188, 189, 190, 191],\n",
       "           dtype=&#x27;int64&#x27;, length=182)),\n",
       "                                                                                           (&#x27;cat&#x27;,\n",
       "                                                                                            Pipeline(steps=[...\n",
       "                                                          (&#x27;selector&#x27;,\n",
       "                                                           SelectPercentile(percentile=100))])),\n",
       "                                         (&#x27;classifier&#x27;, Ridge())]),\n",
       "               n_trials=20,\n",
       "               param_distributions={&#x27;classifier__alpha&#x27;: IntDistribution(high=10, log=False, low=1, step=1),\n",
       "                                    &#x27;preprocessor__selector__percentile&#x27;: IntDistribution(high=100, log=False, low=70, step=5)},\n",
       "               scoring=&#x27;neg_mean_squared_error&#x27;,\n",
       "               study=&lt;optuna.study.study.Study object at 0x00000181E875D790&gt;)</pre></div></div></div><div class=\"sk-parallel\"><div class=\"sk-parallel-item\"><div class=\"sk-item\"><div class=\"sk-serial\"><div class=\"sk-item\"><div class=\"sk-serial\"><div class=\"sk-item\"><div class=\"sk-label-container\"><div class=\"sk-label sk-toggleable\"><input class=\"sk-toggleable__control sk-hidden--visually\" id=\"563fe1f6-2560-41fa-b17a-b547835c32e8\" type=\"checkbox\" ><label for=\"563fe1f6-2560-41fa-b17a-b547835c32e8\" class=\"sk-toggleable__label sk-toggleable__label-arrow\">preprocessor: Pipeline</label><div class=\"sk-toggleable__content\"><pre>Pipeline(steps=[(&#x27;column&#x27;,\n",
       "                 ColumnTransformer(transformers=[(&#x27;num&#x27;,\n",
       "                                                  Pipeline(steps=[(&#x27;imputer&#x27;,\n",
       "                                                                   SimpleImputer(strategy=&#x27;median&#x27;)),\n",
       "                                                                  (&#x27;scaler&#x27;,\n",
       "                                                                   PowerTransformer())]),\n",
       "                                                  Int64Index([  8,  11,  12,  13,  14,  15,  16,  17,  18,  19,\n",
       "            ...\n",
       "            182, 183, 184, 185, 186, 187, 188, 189, 190, 191],\n",
       "           dtype=&#x27;int64&#x27;, length=182)),\n",
       "                                                 (&#x27;cat&#x27;,\n",
       "                                                  Pipeline(steps=[(&#x27;imputer&#x27;,\n",
       "                                                                   SimpleImputer(strategy=&#x27;most_frequent&#x27;)),\n",
       "                                                                  (&#x27;encoder&#x27;,\n",
       "                                                                   OneHotEncoder(handle_unknown=&#x27;ignore&#x27;))]),\n",
       "                                                  Int64Index([0, 1, 2, 3, 4, 5, 6, 7, 9, 10, 192], dtype=&#x27;int64&#x27;))])),\n",
       "                (&#x27;selector&#x27;, SelectPercentile(percentile=100))])</pre></div></div></div><div class=\"sk-serial\"><div class=\"sk-item sk-dashed-wrapped\"><div class=\"sk-label-container\"><div class=\"sk-label sk-toggleable\"><input class=\"sk-toggleable__control sk-hidden--visually\" id=\"974e0826-7550-45a4-968d-19f240dc5bc0\" type=\"checkbox\" ><label for=\"974e0826-7550-45a4-968d-19f240dc5bc0\" class=\"sk-toggleable__label sk-toggleable__label-arrow\">column: ColumnTransformer</label><div class=\"sk-toggleable__content\"><pre>ColumnTransformer(transformers=[(&#x27;num&#x27;,\n",
       "                                 Pipeline(steps=[(&#x27;imputer&#x27;,\n",
       "                                                  SimpleImputer(strategy=&#x27;median&#x27;)),\n",
       "                                                 (&#x27;scaler&#x27;,\n",
       "                                                  PowerTransformer())]),\n",
       "                                 Int64Index([  8,  11,  12,  13,  14,  15,  16,  17,  18,  19,\n",
       "            ...\n",
       "            182, 183, 184, 185, 186, 187, 188, 189, 190, 191],\n",
       "           dtype=&#x27;int64&#x27;, length=182)),\n",
       "                                (&#x27;cat&#x27;,\n",
       "                                 Pipeline(steps=[(&#x27;imputer&#x27;,\n",
       "                                                  SimpleImputer(strategy=&#x27;most_frequent&#x27;)),\n",
       "                                                 (&#x27;encoder&#x27;,\n",
       "                                                  OneHotEncoder(handle_unknown=&#x27;ignore&#x27;))]),\n",
       "                                 Int64Index([0, 1, 2, 3, 4, 5, 6, 7, 9, 10, 192], dtype=&#x27;int64&#x27;))])</pre></div></div></div><div class=\"sk-parallel\"><div class=\"sk-parallel-item\"><div class=\"sk-item\"><div class=\"sk-label-container\"><div class=\"sk-label sk-toggleable\"><input class=\"sk-toggleable__control sk-hidden--visually\" id=\"fd7f0142-e1e2-4a79-b274-5333bfb369b1\" type=\"checkbox\" ><label for=\"fd7f0142-e1e2-4a79-b274-5333bfb369b1\" class=\"sk-toggleable__label sk-toggleable__label-arrow\">num</label><div class=\"sk-toggleable__content\"><pre>Int64Index([  8,  11,  12,  13,  14,  15,  16,  17,  18,  19,\n",
       "            ...\n",
       "            182, 183, 184, 185, 186, 187, 188, 189, 190, 191],\n",
       "           dtype=&#x27;int64&#x27;, length=182)</pre></div></div></div><div class=\"sk-serial\"><div class=\"sk-item\"><div class=\"sk-serial\"><div class=\"sk-item\"><div class=\"sk-estimator sk-toggleable\"><input class=\"sk-toggleable__control sk-hidden--visually\" id=\"36c1314c-47c8-450c-9598-ec4e8daf9d13\" type=\"checkbox\" ><label for=\"36c1314c-47c8-450c-9598-ec4e8daf9d13\" class=\"sk-toggleable__label sk-toggleable__label-arrow\">SimpleImputer</label><div class=\"sk-toggleable__content\"><pre>SimpleImputer(strategy=&#x27;median&#x27;)</pre></div></div></div><div class=\"sk-item\"><div class=\"sk-estimator sk-toggleable\"><input class=\"sk-toggleable__control sk-hidden--visually\" id=\"a3d264ea-2d65-4809-9e9d-821cbbe17ffd\" type=\"checkbox\" ><label for=\"a3d264ea-2d65-4809-9e9d-821cbbe17ffd\" class=\"sk-toggleable__label sk-toggleable__label-arrow\">PowerTransformer</label><div class=\"sk-toggleable__content\"><pre>PowerTransformer()</pre></div></div></div></div></div></div></div></div><div class=\"sk-parallel-item\"><div class=\"sk-item\"><div class=\"sk-label-container\"><div class=\"sk-label sk-toggleable\"><input class=\"sk-toggleable__control sk-hidden--visually\" id=\"1269d0fb-7fe4-4397-8e9f-67dc62e50bde\" type=\"checkbox\" ><label for=\"1269d0fb-7fe4-4397-8e9f-67dc62e50bde\" class=\"sk-toggleable__label sk-toggleable__label-arrow\">cat</label><div class=\"sk-toggleable__content\"><pre>Int64Index([0, 1, 2, 3, 4, 5, 6, 7, 9, 10, 192], dtype=&#x27;int64&#x27;)</pre></div></div></div><div class=\"sk-serial\"><div class=\"sk-item\"><div class=\"sk-serial\"><div class=\"sk-item\"><div class=\"sk-estimator sk-toggleable\"><input class=\"sk-toggleable__control sk-hidden--visually\" id=\"0975ea80-1889-4a0d-a3db-5d78307bc970\" type=\"checkbox\" ><label for=\"0975ea80-1889-4a0d-a3db-5d78307bc970\" class=\"sk-toggleable__label sk-toggleable__label-arrow\">SimpleImputer</label><div class=\"sk-toggleable__content\"><pre>SimpleImputer(strategy=&#x27;most_frequent&#x27;)</pre></div></div></div><div class=\"sk-item\"><div class=\"sk-estimator sk-toggleable\"><input class=\"sk-toggleable__control sk-hidden--visually\" id=\"bcb05393-2539-4f94-8029-db81b41dc920\" type=\"checkbox\" ><label for=\"bcb05393-2539-4f94-8029-db81b41dc920\" class=\"sk-toggleable__label sk-toggleable__label-arrow\">OneHotEncoder</label><div class=\"sk-toggleable__content\"><pre>OneHotEncoder(handle_unknown=&#x27;ignore&#x27;)</pre></div></div></div></div></div></div></div></div></div></div><div class=\"sk-item\"><div class=\"sk-estimator sk-toggleable\"><input class=\"sk-toggleable__control sk-hidden--visually\" id=\"cec00d08-e480-4a92-a7e9-810e9e600dcc\" type=\"checkbox\" ><label for=\"cec00d08-e480-4a92-a7e9-810e9e600dcc\" class=\"sk-toggleable__label sk-toggleable__label-arrow\">SelectPercentile</label><div class=\"sk-toggleable__content\"><pre>SelectPercentile(percentile=100)</pre></div></div></div></div></div><div class=\"sk-item\"><div class=\"sk-estimator sk-toggleable\"><input class=\"sk-toggleable__control sk-hidden--visually\" id=\"ab7ede4d-9673-42be-b60d-033f0e411dbf\" type=\"checkbox\" ><label for=\"ab7ede4d-9673-42be-b60d-033f0e411dbf\" class=\"sk-toggleable__label sk-toggleable__label-arrow\">Ridge</label><div class=\"sk-toggleable__content\"><pre>Ridge()</pre></div></div></div></div></div></div></div></div></div></div></div></div>"
      ],
      "text/plain": [
       "OptunaSearchCV(estimator=Pipeline(steps=[('preprocessor',\n",
       "                                          Pipeline(steps=[('column',\n",
       "                                                           ColumnTransformer(transformers=[('num',\n",
       "                                                                                            Pipeline(steps=[('imputer',\n",
       "                                                                                                             SimpleImputer(strategy='median')),\n",
       "                                                                                                            ('scaler',\n",
       "                                                                                                             PowerTransformer())]),\n",
       "                                                                                            Int64Index([  8,  11,  12,  13,  14,  15,  16,  17,  18,  19,\n",
       "            ...\n",
       "            182, 183, 184, 185, 186, 187, 188, 189, 190, 191],\n",
       "           dtype='int64', length=182)),\n",
       "                                                                                           ('cat',\n",
       "                                                                                            Pipeline(steps=[...\n",
       "                                                          ('selector',\n",
       "                                                           SelectPercentile(percentile=100))])),\n",
       "                                         ('classifier', Ridge())]),\n",
       "               n_trials=20,\n",
       "               param_distributions={'classifier__alpha': IntDistribution(high=10, log=False, low=1, step=1),\n",
       "                                    'preprocessor__selector__percentile': IntDistribution(high=100, log=False, low=70, step=5)},\n",
       "               scoring='neg_mean_squared_error',\n",
       "               study=<optuna.study.study.Study object at 0x00000181E875D790>)"
      ]
     },
     "execution_count": 18,
     "metadata": {},
     "output_type": "execute_result"
    }
   ],
   "source": [
    "%%time\n",
    "\n",
    "param_distributions = { \n",
    "    \"preprocessor__selector__percentile\": IntDistribution(70,100,step=5), \n",
    "    \"classifier__alpha\": IntDistribution(1,10),\n",
    "}\n",
    "\n",
    "optuna.logging.set_verbosity(optuna.logging.WARNING)\n",
    "optuna_search = OptunaSearchCV(model, param_distributions, cv=5, \n",
    "                               scoring='neg_mean_squared_error', n_trials=20,\n",
    "                               study=optuna.create_study(sampler=optuna.samplers.TPESampler(seed=100), direction='maximize'))\n",
    "optuna_search.fit(X_train, y_train)"
   ]
  },
  {
   "cell_type": "code",
   "execution_count": 19,
   "id": "32511c90",
   "metadata": {},
   "outputs": [
    {
     "name": "stdout",
     "output_type": "stream",
     "text": [
      "\n",
      "Best params: {'preprocessor__selector__percentile': 95, 'classifier__alpha': 9}\n",
      "\n",
      "Best score: 867.09\n"
     ]
    }
   ],
   "source": [
    "print(f\"\\nBest params: {optuna_search.best_params_}\")\n",
    "print(f\"\\nBest score: {np.sqrt(-1*optuna_search.best_score_):.2f}\")"
   ]
  },
  {
   "cell_type": "code",
   "execution_count": 20,
   "id": "b6ba665c",
   "metadata": {},
   "outputs": [
    {
     "name": "stdout",
     "output_type": "stream",
     "text": [
      "\n",
      "Tuned LM CV scores:  [ 768.41638399  789.44338266  754.49287752  768.75249617  841.33583785\n",
      "  849.99777957  861.87097368  936.16665132  933.56591191 1032.17106646]\n",
      "Tuned LM CV mean = 857.93 with std = 389.57\n"
     ]
    }
   ],
   "source": [
    "model.set_params(**optuna_search.best_params_)\n",
    "\n",
    "# OOF Prediction\n",
    "models = cross_validate(model, \n",
    "                        X_train, y_train, \n",
    "                        cv=10, \n",
    "                        scoring='neg_mean_squared_error', \n",
    "                        return_estimator=True)\n",
    "oof_pred = np.array([m.predict(X_test) for m in models['estimator']]).mean(axis=0)\n",
    "\n",
    "scores = models['test_score']\n",
    "print(\"\\nTuned LM CV scores: \", np.sqrt(-1*scores))\n",
    "print(\"Tuned LM CV mean = %.2f\" % np.sqrt(-1*scores.mean()), \"with std = %.2f\" % np.sqrt(scores.std()))"
   ]
  },
  {
   "cell_type": "code",
   "execution_count": 21,
   "id": "99c13dec",
   "metadata": {},
   "outputs": [],
   "source": [
    "# submission 화일 생성\n",
    "filename = f'[5]LM_modelE_{np.sqrt(-1*scores.mean()):.2f}_{np.sqrt(scores.std()):.2f}.csv'\n",
    "pd.DataFrame({'ID':test_id, 'Salary':oof_pred}).to_csv(filename, index=False)"
   ]
  },
  {
   "cell_type": "code",
   "execution_count": null,
   "id": "b8ecfcd7",
   "metadata": {},
   "outputs": [],
   "source": []
  }
 ],
 "metadata": {
  "kernelspec": {
   "display_name": "Python 3 (ipykernel)",
   "language": "python",
   "name": "python3"
  },
  "language_info": {
   "codemirror_mode": {
    "name": "ipython",
    "version": 3
   },
   "file_extension": ".py",
   "mimetype": "text/x-python",
   "name": "python",
   "nbconvert_exporter": "python",
   "pygments_lexer": "ipython3",
   "version": "3.8.12"
  }
 },
 "nbformat": 4,
 "nbformat_minor": 5
}
